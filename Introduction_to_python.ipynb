{
 "cells": [
  {
   "cell_type": "markdown",
   "metadata": {
    "slideshow": {
     "slide_type": "subslide"
    }
   },
   "source": [
    "# The path to become a Data Master\n",
    "\n",
    "Easy right? Well maybe. \n",
    "The code is easily explained, the math can be learned, what's missing from all the nice introductory examples is that they fail to emphasize that machine learning is usually the penultimate step in the **Data \\* ** workflow or what I will refer to as the Data Jedi path. \n",
    "\n",
    "A *Data Jedi* is simply someone who is either learning or practicing one of the following activities. I prefer more neutral term like Data Jedi or Data Ninja rather then the boring old definitions of the disciplines, more often than not you need to be versatile and willing to step out of your element in order to master something new.\n",
    "\n",
    "![](https://d3ansictanv2wj.cloudfront.net/data-science-workflow-example-7666e5329b0fb5498b9afc0b522e73fa.jpg)\n",
    "\n",
    "As you can see it is quite the lengthy process and to truly master it one has to achieve dominance over an increasing number of different fields.\n",
    "\n",
    "While this feat in itself is nigh impossible and pointless, having a working knowledge of all the moving parts of the Data Jedi Path is fundamentals if we wish to master the way of the Data."
   ]
  },
  {
   "cell_type": "markdown",
   "metadata": {
    "slideshow": {
     "slide_type": "slide"
    }
   },
   "source": [
    "# Python: Learning to Love Snakes\n",
    "\n",
    "![](https://imgs.xkcd.com/comics/python.png) "
   ]
  },
  {
   "cell_type": "markdown",
   "metadata": {
    "slideshow": {
     "slide_type": "slide"
    }
   },
   "source": [
    "\n",
    "# Learning Python for fun and profit\n",
    "\n",
    "Let's get this out of the way. Everyone interested in programming/computer science should learn Python, the reason is simple: \n",
    "\n",
    "**P Y T H O N** \n",
    "\n",
    "**I S**\n",
    "\n",
    "**A W E S O M E**\n"
   ]
  },
  {
   "cell_type": "markdown",
   "metadata": {
    "slideshow": {
     "slide_type": "slide"
    }
   },
   "source": [
    "# Of Python and Pythonistas\n",
    "\n",
    "![](http://s2.quickmeme.com/img/c1/c18763cc00aaebf5ca42bbb5b88922b9ab4fd759e06ae3f1b8b460151eaf0f94.jpg)\n",
    "\n",
    "Python is a general purpose, multi paradigm, dynamically typed, interpreted programming language. That is not a bunch of buzzwordy nonsense. I swear.\n",
    "\n",
    "**Pythonista** is the technical term with which we regard enlightened programmers having chosen to embrace our Lord and Saviour Python, I hope you will join us under the guide of the Benevolent Dictator For Life Guido van Rossum."
   ]
  },
  {
   "cell_type": "markdown",
   "metadata": {
    "slideshow": {
     "slide_type": "subslide"
    }
   },
   "source": [
    "- Multi paradigm --> Imperative, Functional, Object Oriented, Procedural\n",
    "- Languages like Java, C++, C, Rust and Go all are statically typed, meaning types are checked at compile time, Python skipping an explicit compile phase has its types checked only at runtime. This trades earlier bugs detection and performance for ease of use. NOTE: Python, via its library can reach incredible speed and/or support static typing.\n",
    "- > An interpreted language is a programming language for which most of its implementations execute instructions directly and freely, without previously compiling a program into machine-language instructions. The interpreter executes the program directly, translating each statement into a sequence of one or more subroutines already compiled into 0machine code."
   ]
  },
  {
   "cell_type": "code",
   "execution_count": 1,
   "metadata": {
    "collapsed": false,
    "scrolled": false,
    "slideshow": {
     "slide_type": "subslide"
    }
   },
   "outputs": [
    {
     "name": "stdout",
     "output_type": "stream",
     "text": [
      "The Zen of Python, by Tim Peters\n",
      "\n",
      "Beautiful is better than ugly.\n",
      "Explicit is better than implicit.\n",
      "Simple is better than complex.\n",
      "Complex is better than complicated.\n",
      "Flat is better than nested.\n",
      "Sparse is better than dense.\n",
      "Readability counts.\n",
      "Special cases aren't special enough to break the rules.\n",
      "Although practicality beats purity.\n",
      "Errors should never pass silently.\n",
      "Unless explicitly silenced.\n",
      "In the face of ambiguity, refuse the temptation to guess.\n",
      "There should be one-- and preferably only one --obvious way to do it.\n",
      "Although that way may not be obvious at first unless you're Dutch.\n",
      "Now is better than never.\n",
      "Although never is often better than *right* now.\n",
      "If the implementation is hard to explain, it's a bad idea.\n",
      "If the implementation is easy to explain, it may be a good idea.\n",
      "Namespaces are one honking great idea -- let's do more of those!\n"
     ]
    }
   ],
   "source": [
    "# The Zen of Python\n",
    "import this"
   ]
  },
  {
   "cell_type": "markdown",
   "metadata": {
    "slideshow": {
     "slide_type": "subslide"
    }
   },
   "source": [
    "# Whitespace and Indention\n",
    "\n",
    "In Python whitespaces and indention matter. A LOT. In breaking with the tradition of other programming languages, Python compiler does actively compile both whitespace and indention. Code breaks when you forget to indent. While slightly annoying at first, this feature alone makes Python one of the easiest language to read and write since you do not need to wrap thing in `{`, `;` and the like of them while being forced to write code in a sane way.\n",
    "\n"
   ]
  },
  {
   "cell_type": "code",
   "execution_count": 2,
   "metadata": {
    "collapsed": true,
    "slideshow": {
     "slide_type": "subslide"
    }
   },
   "outputs": [],
   "source": [
    "#Indention, replacing other logical markers, is crucial to the syntax since it establish parent-child operations inside logically nested operations.\n",
    "\n",
    "reality_is_a_simulation = 1\n",
    "other_global_variable = \"This Is a String!\"\n",
    "\n",
    "def pick_a_random_number(random_argument_LOL):\n",
    "    a_local_variable = \"Only the best organically grown local variables!\"\n",
    "    for element in random_argument_LOL:\n",
    "        if reality_is_a_simulation:\n",
    "            print(\"42\")\n",
    "    "
   ]
  },
  {
   "cell_type": "markdown",
   "metadata": {
    "slideshow": {
     "slide_type": "subslide"
    }
   },
   "source": [
    "# PEP 8\n",
    "\n",
    "Among the many PEP, one of the most important is PEP 8 which describes how the \"default\" style rules one should adhere to. The nice thing about PEP 8 is that most editors out there either support it directly or have plugins you can install that will automatically check your code for any failure to comply. PEP 8 while being the most diffuse style is not the only one (i.e. Google Python Style) you should be trying as much to adhere to it whenever it is reasonable to do so. Do not fail however to follow the best advice inside PEP 8:\n",
    "\n",
    "> A Foolish Consistency is the Hobgoblin of Little Minds"
   ]
  },
  {
   "cell_type": "markdown",
   "metadata": {
    "slideshow": {
     "slide_type": "slide"
    }
   },
   "source": [
    "# Pythonic Objects\n",
    "\n",
    "Looks are important but in the end we are for the substance. Due to our time constraint I will be able only to give you a small glimpse into the fundamental structures of the language. "
   ]
  },
  {
   "cell_type": "markdown",
   "metadata": {
    "slideshow": {
     "slide_type": "slide"
    }
   },
   "source": [
    "# Strings Theory"
   ]
  },
  {
   "cell_type": "code",
   "execution_count": 3,
   "metadata": {
    "collapsed": false,
    "slideshow": {
     "slide_type": "subslide"
    }
   },
   "outputs": [
    {
     "name": "stdout",
     "output_type": "stream",
     "text": [
      "OMG\n",
      "Look mum, no need to declare the type of the variable\n",
      "\n",
      "Look mum, \n",
      "I can even multiline \n",
      "yeeee\n",
      "\n",
      "fish bread\n",
      "fish bread fish bread fish bread fish bread fish bread \n",
      "\n"
     ]
    }
   ],
   "source": [
    "string = 'OMG'\n",
    "string_2 = \"Look mum, no need to declare the type of the variable\"\n",
    "string_3 = \"\"\"\n",
    "Look mum, \n",
    "I can even multiline \n",
    "yeeee\n",
    "\"\"\"\n",
    "string_4 = \"fish\" + \" \" + \"bread\"\n",
    "string_5 = (string_4 + \" \") * 5\n",
    "\n",
    "\n",
    "print(string + \"\\n\" + string_2 + \"\\n\" + string_3 + \"\\n\" + string_4 + \"\\n\" + string_5 +\"\\n\" )"
   ]
  },
  {
   "cell_type": "markdown",
   "metadata": {
    "slideshow": {
     "slide_type": "slide"
    }
   },
   "source": [
    "# Lists\n",
    "\n",
    "\n",
    "Lists\n",
    "Probably the most fundamental data structure in Python is the list. A list is simply an ordered collection. (It is similar to what in other languages might be called an array, but with some added functionality.)\n",
    "```python\n",
    "integer_list = [1, 2, 3]\n",
    "heterogeneous_list = [\"string\", 0.1, True]\n",
    "list_of_lists = [ integer_list, heterogeneous_list, [] ]\n",
    "list_length = len(integer_list) # equals 3\n",
    "list_sum = sum(integer_list) # equals 6\n",
    "```\n",
    "You can get or set the nth element of a list with square brackets:\n",
    "```python\n",
    "x = range(10) # is the list [0, 1, ..., 9]\n",
    "zero = x[0] # equals 0, lists are 0-indexed\n",
    "one = x[1] # equals 1\n",
    "nine = x[-1] # equals 9, 'Pythonic' for last element\n",
    "eight = x[-2] # equals 8, 'Pythonic' for next-to-last element\n",
    "x[0] = -1 # now x is [-1, 1, 2, 3, ..., 9]\n",
    "```\n",
    "You can also use square brackets to “slice” lists:\n",
    "```python\n",
    "first_three = x[:3] # [-1, 1, 2]\n",
    "three_to_end = x[3:] # [3, 4, ..., 9]\n",
    "one_to_four = x[1:5] # [1, 2, 3, 4]\n",
    "last_three = x[-3:] # [7, 8, 9]\n",
    "without_first_and_last = x[1:-1] # [1, 2, ..., 8]\n",
    "copy_of_x = x[:] # [-1, 1, 2, ..., 9]\n",
    "```"
   ]
  },
  {
   "cell_type": "markdown",
   "metadata": {
    "slideshow": {
     "slide_type": "subslide"
    }
   },
   "source": [
    "Python has an in operator to check for list membership:\n",
    "```python\n",
    "1 in [1, 2, 3] # True\n",
    "0 in [1, 2, 3] # False\n",
    "```\n",
    "This check involves examining the elements of the list one at a time, which means\n",
    "that you probably shouldn’t use it unless you know your list is pretty small (or unless\n",
    "you don’t care how long the check takes).\n",
    "It is easy to concatenate lists together:\n",
    "```python\n",
    "x = [1, 2, 3]\n",
    "x.extend([4, 5, 6]) # x is now [1,2,3,4,5,6]\n",
    "```\n",
    "If you don’t want to modify x you can use list addition:\n",
    "```python\n",
    "x = [1, 2, 3]\n",
    "y = x + [4, 5, 6] # y is [1, 2, 3, 4, 5, 6]; x is unchanged\n",
    "```\n",
    "More frequently we will append to lists one item at a time:\n",
    "```python\n",
    "x = [1, 2, 3]\n",
    "x.append(0) # x is now [1, 2, 3, 0]\n",
    "y = x[-1] # equals 0\n",
    "z = len(x) # equals 4\n",
    "```\n",
    "It is often convenient to unpack lists if you know how many elements they contain:\n",
    "```python\n",
    "x, y = [1, 2] # now x is 1, y is 2\n",
    "```\n",
    "although you will get a ValueError if you don’t have the same numbers of elements\n",
    "on both sides.\n",
    "It’s common to use an underscore for a value you’re going to throw away:\n",
    "_, y = [1, 2] # now y == 2, didn't care about the first element"
   ]
  },
  {
   "cell_type": "markdown",
   "metadata": {
    "slideshow": {
     "slide_type": "slide"
    }
   },
   "source": [
    "# Tuples\n",
    "Tuples are lists’ immutable cousins. Pretty much anything you can do to a list that\n",
    "doesn’t involve modifying it, you can do to a tuple. You specify a tuple by using\n",
    "parentheses (or nothing) instead of square brackets:\n",
    "```python\n",
    "my_list = [1, 2]\n",
    "my_tuple = (1, 2)\n",
    "other_tuple = 3, 4\n",
    "my_list[1] = 3 # my_list is now [1, 3]\n",
    "try:\n",
    "    my_tuple[1] = 3\n",
    "except TypeError:\n",
    "    print \"cannot modify a tuple\"\n",
    "```\n",
    "Tuples are a convenient way to return multiple values from functions:\n",
    "```python\n",
    "def sum_and_product(x, y):\n",
    "    return (x + y),(x * y)\n",
    "sp = sum_and_product(2, 3) # equals (5, 6)\n",
    "s, p = sum_and_product(5, 10) # s is 15, p is 50\n",
    "```\n",
    "Tuples (and lists) can also be used for multiple assignment:\n",
    "```python\n",
    "x, y = 1, 2 # now x is 1, y is 2\n",
    "x, y = y, x # Pythonic way to swap variables; now x is 2, y is 1\n",
    "```"
   ]
  },
  {
   "cell_type": "markdown",
   "metadata": {
    "slideshow": {
     "slide_type": "slide"
    }
   },
   "source": [
    "# Dictionaries \n",
    "Another fundamental data structure is a dictionary, which associates values with keys\n",
    "and allows you to quickly retrieve the value corresponding to a given key:\n",
    "```python\n",
    "empty_dict = {} # Pythonic\n",
    "empty_dict2 = dict() # less Pythonic\n",
    "grades = { \"Joel\" : 80, \"Tim\" : 95 } # dictionary literal\n",
    "```\n",
    "You can look up the value for a key using square brackets:\n",
    "```python\n",
    "joels_grade = grades[\"Joel\"] # equals 80\n",
    "```\n",
    "But you’ll get a KeyError if you ask for a key that’s not in the dictionary:\n",
    "```python\n",
    "try:\n",
    "    kates_grade = grades[\"Kate\"]\n",
    "except KeyError:\n",
    "    print(\"no grade for Kate!\")\n",
    "```\n",
    "You can check for the existence of a key using in:\n",
    "```python\n",
    "joel_has_grade = \"Joel\" in grades # True\n",
    "kate_has_grade = \"Kate\" in grades # False\n",
    "```"
   ]
  },
  {
   "cell_type": "markdown",
   "metadata": {
    "slideshow": {
     "slide_type": "subslide"
    }
   },
   "source": [
    "Dictionaries have a get method that returns a default value (instead of raising an\n",
    "exception) when you look up a key that’s not in the dictionary:\n",
    "```python\n",
    "joels_grade = grades.get(\"Joel\", 0) # equals 80\n",
    "kates_grade = grades.get(\"Kate\", 0) # equals 0\n",
    "no_ones_grade = grades.get(\"No One\") # default default is None\n",
    "```\n",
    "You assign key-value pairs using the same square brackets:\n",
    "```python\n",
    "grades[\"Tim\"] = 99 # replaces the old value\n",
    "grades[\"Kate\"] = 100 # adds a third entry\n",
    "num_students = len(grades) # equals 3\n",
    "```\n",
    "We will frequently use dictionaries as a simple way to represent structured data:\n",
    "```python\n",
    "tweet = {\n",
    "    \"user\" : \"joelgrus\",\n",
    "    \"text\" : \"Data Science is Awesome\",\n",
    "    \"retweet_count\" : 100,\n",
    "    \"hashtags\" : [\"#data\", \"#science\", \"#datascience\", \"#awesome\", \"#yolo\"]\n",
    "}\n",
    "```\n",
    "Besides looking for specific keys we can look at all of them:\n",
    "```python\n",
    "tweet_keys = tweet.keys() # list of keys\n",
    "tweet_values = tweet.values() # list of values\n",
    "tweet_items = tweet.items() # list of (key, value) tuples\n",
    "\"user\" in tweet_keys # True, but uses a slow list in\n",
    "\"user\" in tweet # more Pythonic, uses faster dict in\n",
    "\"joelgrus\" in tweet_values # True\n",
    "```\n"
   ]
  },
  {
   "cell_type": "markdown",
   "metadata": {
    "slideshow": {
     "slide_type": "subslide"
    }
   },
   "source": [
    "Dictionary keys must be immutable; in particular, you cannot use lists as keys. If\n",
    "you need a multipart key, you should use a tuple or figure out a way to turn the key\n",
    "into a string."
   ]
  },
  {
   "cell_type": "markdown",
   "metadata": {
    "slideshow": {
     "slide_type": "slide"
    }
   },
   "source": [
    "# The code must flow\n",
    "\n",
    "Control flow is crucial for any programming language: Python does this in a simple, effective way. We have five keywords controlling our flow, the only catch is to remember to put `:` at the end of the line in which our keyword appears. "
   ]
  },
  {
   "cell_type": "markdown",
   "metadata": {
    "slideshow": {
     "slide_type": "slide"
    }
   },
   "source": [
    "# if elif else\n",
    "```python\n",
    "if what_is_here_on_the_right_is_true:\n",
    "    do_something()\n",
    "elif if_the_previous_step_failed_and_this_is_true:\n",
    "    do_something_else()\n",
    "if what_is_here_on_the_right_is_true:\n",
    "    do_something()\n",
    "elif if_the_previous_step_failed_and_this_is_true:\n",
    "    do_something_else()\n",
    "else:  # Python will valuate this only if every other steps before failed\n",
    "    do_something_else()\n",
    "```"
   ]
  },
  {
   "cell_type": "markdown",
   "metadata": {
    "slideshow": {
     "slide_type": "subslide"
    }
   },
   "source": [
    "# for\n",
    "\n",
    "The `for` is used with iterable, object like list, tuple, strings and dictionaries are all iterable offering you the possibility to loop through their items.\n",
    "\n",
    "```python\n",
    "fibonacci = [ 1, 1, 2, 3, 5, 8, 13]\n",
    "for n in fibonacci:\n",
    "    do_something()\n",
    "```\n",
    "\n",
    "The do_something() function will be iterated for each element in the list."
   ]
  },
  {
   "cell_type": "markdown",
   "metadata": {
    "slideshow": {
     "slide_type": "subslide"
    }
   },
   "source": [
    "# while + (break)\n",
    "\n",
    "`while` is used to create a loop that goes on as long as the condition after `while` is `True` OR `break` has been called. A classic example  of an infinite `while` + `break`:\n",
    "\n",
    "```python\n",
    "while True:\n",
    "    repeat_this_action()\n",
    "    if this_is_true_the_loop_will_ends:\n",
    "        break\n",
    "```"
   ]
  },
  {
   "cell_type": "markdown",
   "metadata": {
    "slideshow": {
     "slide_type": "slide"
    }
   },
   "source": [
    "# Functions\n",
    "\n",
    "Function, in a way similar to mathematics, is a rule established between 0 or more objects and returning (with a `return`) a corresponding output. In python a function is defined using `def`:\n",
    "\n",
    "```python\n",
    "def name_of_the_fucntion(zero_or_more_arguments):\n",
    "    \"\"\"\n",
    "    Docstring describing what the function does\n",
    "    \"\"\"\n",
    "    something_something = blablabla\n",
    "    return something_something\n",
    "```"
   ]
  },
  {
   "cell_type": "markdown",
   "metadata": {
    "slideshow": {
     "slide_type": "slide"
    }
   },
   "source": [
    "![](https://i.redd.it/00824ycw3hwy.jpg)\n",
    "\n"
   ]
  },
  {
   "cell_type": "markdown",
   "metadata": {
    "slideshow": {
     "slide_type": "slide"
    }
   },
   "source": [
    "![](https://s-media-cache-ak0.pinimg.com/originals/51/fc/f1/51fcf1c55a37b5544ad6fe40f3765cf0.jpg)"
   ]
  },
  {
   "cell_type": "markdown",
   "metadata": {
    "slideshow": {
     "slide_type": "slide"
    }
   },
   "source": [
    "# Use Python Luke\n",
    "\n",
    "Python with its ease of use and clarity conquered the heart of many programmers, this meant that a lot of people started porting libraries from other languages, their motives varied but the end result was the same: the Python Ecosystem became richer and richer, this has been True for the Scientific Computing and Data_* fields as well.\n",
    "***\n",
    "Starting with Numpy and then Matplotlib, \"stolen\" from Matlab, to Pandas and its Data Frame which is clearly the Python equivalent of the R Dataframe, the Python Data community built an impressive stack of tools on top of these libraries, some of them, like Scikit-Learn (which is probably the most used non-deep Machine Learning library) stand out as example of excellent open source, community driven project and amazing case-study for API designers."
   ]
  },
  {
   "cell_type": "markdown",
   "metadata": {
    "slideshow": {
     "slide_type": "subslide"
    }
   },
   "source": [
    "# Royal Rumble or how to chooose a Data Jedi\n",
    "\n",
    "## Python\n",
    "Versatility, clear APIs, speed, reliability, readability, huge community and tools are the core motivations that should push an aspiring Data Science to choose Python over other programming languages. This is the only one language that will let you walk the Data Jedi Path without needing any integrations whatsoever by other, however I recommend taking at least one of the following as a companion to Python as this will amplify their powers beyond measure.\n",
    "\n",
    "**Legend:** <font color=purple>Purple</font> > <font color=blue>Blue</font> > <font color=green>Green</font> > <font color=black>Black</font> > <font color=red>Red</font>.\n",
    "***\n",
    "## Julia\n",
    "The new kid on the block, Julia is to me more like a modern take on the R concept, capable of attracting an increasing community, it offers speed, readability and ease of analysis all in one package. It is for sure interesting although being in its infancy makes support for multiple workflows and libraries scarce at times.\n",
    "***\n",
    "## R\n",
    "A nice syntax, a built-in dataframe, a plethora of great packages and a great IDE in the form of R-Studio made R the long-time king of Data Science and Statistical analysis. Python stole the fire of the Dataframe from the Gods and with Jupyter also established a better platform/technology for the interactive analysis/exploration. A way larger community coupled with the rise of Jupyter, Scikit-Learn and Tensorflow made Python slightly more popular than R for these tasks. Mostly used by statisticians, biologists and widely taught at both undergraduate and graduate level, R is still a force to be reckoned with, especially when it comes to quick exploratory analysis. My advice is to learn Python first and R secondly, you do not necessarily need one if you have the other but together they voltron into a new whole degree of awesome.\n",
    "***\n"
   ]
  },
  {
   "cell_type": "markdown",
   "metadata": {
    "slideshow": {
     "slide_type": "slide"
    }
   },
   "source": [
    "![](https://raw.githubusercontent.com/jupyter/design/master/logos/Rectangle%20Logo/rectanglelogo-greytext-orangebody-greymoons/rectanglelogo-greytext-orangebody-greymoons.png)\n",
    "\n",
    "# Use Jupyter Luke!\n",
    "\n",
    "We have already mentioned it several times by now but Jupyter has been taking the Scientific Community by storm.\n",
    "\n",
    "> The Jupyter Notebook is an open-source web application that allows you to create and share documents that contain live code, equations, visualizations and narrative text. Uses include: data cleaning and transformation, numerical simulation, statistical modeling, data visualization, machine learning, and much more.\n",
    "\n",
    "Evolved from the IPython project, it gathered enough momentum and was able to reorganize itself into a language-agnostic platform that has become the defacto new standard for most Data and Scientific tasks. In order to fully appreciate its magic you have to try it. Soon a new iteration of the Jupyter Notebook, called **Jupyter Lab** will be released and it promises to be more revolutionary than its predecessor.\n",
    "\n",
    "*FUN FACT: all these slides have been created using Jupyter.*\n"
   ]
  },
  {
   "cell_type": "markdown",
   "metadata": {
    "slideshow": {
     "slide_type": "slide"
    }
   },
   "source": [
    "![](http://www.quickmeme.com/img/bd/bd8003add79f5d11643d53abc4dc83aeb0c9dbf060a49c0f055cd18ea41909ef.jpg)\n",
    "\n",
    "# Of Pythons and Pandas\n"
   ]
  },
  {
   "cell_type": "markdown",
   "metadata": {
    "slideshow": {
     "slide_type": "slide"
    }
   },
   "source": [
    "# Data Plumbing\n",
    "\n",
    "![](http://planspace.org/2014/01/04/some-theory-and-practice-for-data-cleaning/clean_all_the_data_maybe.png)"
   ]
  },
  {
   "cell_type": "code",
   "execution_count": null,
   "metadata": {
    "collapsed": true
   },
   "outputs": [],
   "source": []
  }
 ],
 "metadata": {
  "anaconda-cloud": {},
  "celltoolbar": "Raw Cell Format",
  "kernelspec": {
   "display_name": "Python [conda root]",
   "language": "python",
   "name": "conda-root-py"
  },
  "language_info": {
   "codemirror_mode": {
    "name": "ipython",
    "version": 3
   },
   "file_extension": ".py",
   "mimetype": "text/x-python",
   "name": "python",
   "nbconvert_exporter": "python",
   "pygments_lexer": "ipython3",
   "version": "3.5.2"
  },
  "toc": {
   "nav_menu": {},
   "number_sections": true,
   "sideBar": false,
   "skip_h1_title": false,
   "toc_cell": true,
   "toc_position": {},
   "toc_section_display": "block",
   "toc_window_display": true
  }
 },
 "nbformat": 4,
 "nbformat_minor": 2
}
